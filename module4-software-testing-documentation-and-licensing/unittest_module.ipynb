{
 "cells": [
  {
   "cell_type": "code",
   "execution_count": 2,
   "metadata": {},
   "outputs": [
    {
     "name": "stderr",
     "output_type": "stream",
     "text": [
      "F..\n",
      "======================================================================\n",
      "FAIL: test_isupper (__main__.TestStringMethods)\n",
      "----------------------------------------------------------------------\n",
      "Traceback (most recent call last):\n",
      "  File \"<ipython-input-2-430e626d553c>\", line 11, in test_isupper\n",
      "    self.assertFalse('FOO'.isupper())\n",
      "AssertionError: True is not false\n",
      "\n",
      "----------------------------------------------------------------------\n",
      "Ran 3 tests in 0.006s\n",
      "\n",
      "FAILED (failures=1)\n"
     ]
    }
   ],
   "source": [
    "# For constructing and running tests\n",
    "import unittest\n",
    "\n",
    "class TestStringMethods(unittest.TestCase):\n",
    "    \n",
    "    def test_upper(self):\n",
    "        # For an expected result\n",
    "        self.assertEqual('foo'.upper(), 'FOO')\n",
    "        \n",
    "    def test_isupper(self):\n",
    "        # to verity\n",
    "        self.assertTrue('FOO'.isupper())\n",
    "        self.assertFalse('FOO'.isupper())\n",
    "        \n",
    "    def test_split(self):\n",
    "        s = 'hello world'\n",
    "        self.assertEqual(s.split(), ['hello', 'world'])\n",
    "        # it checks that s.split() fails when separator is not a string\n",
    "        with self.assertRaises(TypeError):\n",
    "            s.split(2)\n",
    "            \n",
    "if __name__ == '__main__':\n",
    "    \"\"\"\n",
    "    \n",
    "    To run within this notebook we need to add\n",
    "    '(argv=['first-arg-is-ignored'], exit=False)'\n",
    "    as unittest.main() looks at 'sys.argv'\n",
    "    passing explicit list to unittest.main() prevents\n",
    "    both IPython and Jupyter from looking\n",
    "    at 'sys.argv'\n",
    "    \n",
    "    Source:\n",
    "    https://medium.com/@vladbezden/using-python-unittest-in-ipython-or-jupyter-732448724e31\n",
    "    \n",
    "    \"\"\"\n",
    "    \n",
    "    unittest.main(argv=['first-arg-is-ignored'], exit=False)"
   ]
  },
  {
   "cell_type": "code",
   "execution_count": null,
   "metadata": {},
   "outputs": [],
   "source": [
    "# There was a failure asserting:\n",
    "# self.assertFalse('FOO'.isupper())\n",
    "# as it should be true"
   ]
  },
  {
   "cell_type": "code",
   "execution_count": null,
   "metadata": {},
   "outputs": [],
   "source": []
  }
 ],
 "metadata": {
  "kernelspec": {
   "display_name": "Python 3",
   "language": "python",
   "name": "python3"
  },
  "language_info": {
   "codemirror_mode": {
    "name": "ipython",
    "version": 3
   },
   "file_extension": ".py",
   "mimetype": "text/x-python",
   "name": "python",
   "nbconvert_exporter": "python",
   "pygments_lexer": "ipython3",
   "version": "3.7.4"
  }
 },
 "nbformat": 4,
 "nbformat_minor": 2
}
